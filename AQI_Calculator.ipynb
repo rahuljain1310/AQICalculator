{
 "cells": [
  {
   "cell_type": "code",
   "execution_count": 11,
   "metadata": {},
   "outputs": [],
   "source": [
    "import math\n",
    "import csv\n",
    "inf = math.inf"
   ]
  },
  {
   "cell_type": "code",
   "execution_count": 12,
   "metadata": {},
   "outputs": [],
   "source": [
    "aqi = [0,51,101,201,301,401,500]\n",
    "pm10 = [0,51,101,251,351,431,inf]\n",
    "pm25 = [0,31,61,91,121,251,inf]\n",
    "no2 = [0,41,81,181,281,401,inf]\n",
    "o3 = [0,51,101,169,209,749,inf]\n",
    "co = [0,1.1,2.1,10.1,17.1,34,inf]\n",
    "so2 = [0,41,81,381,801,1601,inf]"
   ]
  },
  {
   "cell_type": "code",
   "execution_count": 13,
   "metadata": {},
   "outputs": [],
   "source": [
    "def findlohi (arr,value):\n",
    "    t = len(arr)\n",
    "    for i in range (0,t):\n",
    "        if(value<=arr[i+1] and value>=arr[i]):\n",
    "            return (arr[i],arr[i+1],i)"
   ]
  },
  {
   "cell_type": "code",
   "execution_count": 14,
   "metadata": {},
   "outputs": [],
   "source": [
    "def ipi (cp, bp, diff = 1):\n",
    "    lohi = findlohi(bp,cp)\n",
    "    if(lohi[1]==inf):\n",
    "        return 500\n",
    "    bhi = lohi[1]-diff\n",
    "    blo = lohi[0]\n",
    "    i  = lohi[2]\n",
    "    ilo = aqi[i]\n",
    "    ihi = aqi[i+1]-diff\n",
    "    res = (ihi-ilo)/(bhi-blo)\n",
    "    res = res*(cp-blo)\n",
    "    res = res+ilo\n",
    "    return res"
   ]
  },
  {
   "cell_type": "code",
   "execution_count": 15,
   "metadata": {},
   "outputs": [],
   "source": [
    "def avgvalue (arr):\n",
    "    sum = 0\n",
    "    for x in arr:\n",
    "        sum = sum+x\n",
    "    sum = sum/len(arr)\n",
    "    return sum\n",
    "def avgarr(arr,col):\n",
    "    sum = 0\n",
    "    for x in arr:\n",
    "        sum = sum+x[col]\n",
    "    sum = sum/len(arr)\n",
    "    return sum\n",
    "def avgarr8(arr,col):\n",
    "    a = avgarr(arr[0:8],col)\n",
    "    b = avgarr(arr[8:16],col)\n",
    "    c = avgarr(arr[16:24],col)\n",
    "    return max(a,b,c)"
   ]
  },
  {
   "cell_type": "code",
   "execution_count": 16,
   "metadata": {},
   "outputs": [],
   "source": [
    "def dailyrecord (arr):\n",
    "    avg_pm25 = avgarr(arr,0)\n",
    "    ip_pm25 = ipi(avg_pm25,pm25)\n",
    "    avg_pm10 = avgarr(arr,1)\n",
    "    ip_pm10 = ipi(avg_pm10,pm10)\n",
    "    avg_so2 = avgarr(arr,2)\n",
    "    ip_so2 = ipi(avg_so2,so2)\n",
    "    avg_no2 = avgarr(arr,3)\n",
    "    ip_no2 = ipi(avg_no2,no2)\n",
    "    avg_co = avgarr8(arr,4)\n",
    "    ip_co = ipi(avg_co,co,0.1)\n",
    "    avg_o3 = avgarr8(arr,5)\n",
    "    ip_o3 = ipi(avg_o3,o3)\n",
    "    t = (ip_pm25,ip_pm10,ip_so2,ip_o3,ip_no2,ip_co)\n",
    "    a = max(ip_pm25,ip_pm10,ip_so2)\n",
    "    b = max(ip_o3,ip_no2,ip_co)\n",
    "    return (max(a,b),t)"
   ]
  },
  {
   "cell_type": "code",
   "execution_count": 17,
   "metadata": {},
   "outputs": [],
   "source": [
    "yearwise = []\n",
    "with open('data.csv', mode='r') as csv_file:\n",
    "    csv_reader = csv.reader(csv_file)\n",
    "    i = 0\n",
    "    r24 = []\n",
    "    record365 = []\n",
    "    for row in csv_reader:\n",
    "        i = i+1\n",
    "        row = list(map(float, row))\n",
    "        r24.append(row)\n",
    "        if(i==24):\n",
    "            x = dailyrecord(r24)\n",
    "            yearwise.append(x[1])\n",
    "            record365.append(x[0])\n",
    "            i = 0\n",
    "            r24 = []\n",
    "with open('yearwise.csv', 'w',newline='') as csvFile:\n",
    "    writer = csv.writer(csvFile)\n",
    "    writer.writerows(yearwise)\n",
    "csvFile.close()"
   ]
  },
  {
   "cell_type": "code",
   "execution_count": 18,
   "metadata": {},
   "outputs": [],
   "source": [
    "monthday = [31,28,31,30,31,30,31,31,30,31,30,31]\n",
    "monthwise = []\n",
    "j = 0\n",
    "i = 0\n",
    "recordmonth = []\n",
    "for row in record365:\n",
    "    recordmonth.append(row)\n",
    "    i=i+1\n",
    "    if(i==monthday[j]):\n",
    "        j=j+1\n",
    "        i = 0\n",
    "        x = avgvalue(recordmonth)\n",
    "        monthwise.append(x)\n",
    "        recordmonth=[]"
   ]
  },
  {
   "cell_type": "code",
   "execution_count": 19,
   "metadata": {},
   "outputs": [
    {
     "name": "stdout",
     "output_type": "stream",
     "text": [
      "12\n",
      "[74.46714625584139, 80.37879650768535, 108.3175042036687, 85.99962699249883, 78.09617386255577, 68.06222072158366, 57.476927017673965, 81.68378136200718, 84.49450419463088, 99.24329920520304, 129.04515176342676, 149.30238087061684]\n"
     ]
    }
   ],
   "source": [
    "print(len(monthwise))\n",
    "print(monthwise)"
   ]
  },
  {
   "cell_type": "code",
   "execution_count": null,
   "metadata": {},
   "outputs": [],
   "source": []
  }
 ],
 "metadata": {
  "kernelspec": {
   "display_name": "Python 3",
   "language": "python",
   "name": "python3"
  },
  "language_info": {
   "codemirror_mode": {
    "name": "ipython",
    "version": 3
   },
   "file_extension": ".py",
   "mimetype": "text/x-python",
   "name": "python",
   "nbconvert_exporter": "python",
   "pygments_lexer": "ipython3",
   "version": "3.7.1"
  }
 },
 "nbformat": 4,
 "nbformat_minor": 2
}
