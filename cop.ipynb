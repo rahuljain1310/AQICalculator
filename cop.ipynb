{
 "cells": [
  {
   "cell_type": "code",
   "execution_count": 137,
   "metadata": {},
   "outputs": [],
   "source": [
    "import enum\n",
    "class Skill(enum.Enum):\n",
    "    motivation = 0\n",
    "    awareness = 1\n",
    "    social_awareness = 2\n",
    "    wisdom = 3\n",
    "    confidence = 4\n",
    "    relationship = 5\n",
    "    health = 6\n",
    "    experience = 7\n",
    "    satisfaction = 8\n",
    "class Event(enum.Enum):\n",
    "    binary = 0\n",
    "    impulse = 1\n",
    "totalskills = len(Skill)\n",
    "skills = [0]*totalskills\n",
    "skills_vel = [0]*totalskills\n",
    "skills_acc = [0]*totalskills\n",
    "skills_imp = [0]*totalskills\n",
    "scaling_factor = [0]*totalskills\n",
    "E = [0]*totalskills"
   ]
  },
  {
   "cell_type": "code",
   "execution_count": 138,
   "metadata": {},
   "outputs": [],
   "source": [
    "def addlist(x,y,z=E):\n",
    "    length = len(x)\n",
    "    res = []\n",
    "    for i in range(0,length):\n",
    "        res.append(x[i]+y[i]+z[i])\n",
    "    return res"
   ]
  },
  {
   "cell_type": "code",
   "execution_count": 139,
   "metadata": {},
   "outputs": [],
   "source": [
    "def updateSkill(imp,vel,acc):\n",
    "    global skills,skills_vel,skills_acc\n",
    "    skills = addlist(skills,imp,skills_vel)\n",
    "    skill_vel = addlist(skills_vel,vel,skills_acc)\n",
    "    skills_acc = addlist(skills_acc,acc)\n",
    "    print(skills)"
   ]
  },
  {
   "cell_type": "code",
   "execution_count": 140,
   "metadata": {},
   "outputs": [],
   "source": [
    "questions = [{'type':Event.binary,'Question': \"\", 'Choice_1':'','Choice_2':'','Description_1':'','Description_2':'',\n",
    "              'imp_1':E,'vel_1':E,'acc_1':E,'imp_2':E,'vel_2':E,'acc_2':E},\n",
    "            {'type':Event.binary,'Question': \"\", 'Choice_1':'','Choice_2':'','Description_1':'','Description_2':'',\n",
    "              'imp_1':E,'vel_1':E,'acc_1':E,'imp_2':E,'vel_2':E,'acc_2':E},\n",
    "            {'type':Event.binary,'Question': \"\", 'Choice_1':'','Choice_2':'','Description_1':'','Description_2':'',\n",
    "              'imp_1':E,'vel_1':E,'acc_1':E,'imp_2':E,'vel_2':E,'acc_2':E},\n",
    "            {'type':Event.impulse,'Question': \"\",'Description':'','imp':[0, 0.1, 0.1, 0, 0.1, 0.1,0, 0.1, 0.1 ]},\n",
    "             \n",
    "            {'type':Event.impulse,'Question': \"\",'Description':'','imp':[0, 0.1, 0.1, 0, 0.1, 0.1,0, 0.1, 0.1 ]},\n",
    "            {'type':Event.impulse,'Question': \"\",'Description':'','imp':[0, 0.1, 0.1, 0, 0.1, 0.1,0, 0.1, 0.1 ]},\n",
    "            {'type':Event.binary,'Question': \"\", 'Choice_1':'','Choice_2':'','Description_1':'','Description_2':'',\n",
    "              'imp_1':E,'vel_1':E,'acc_1':E,'imp_2':E,'vel_2':E,'acc_2':E}]\n",
    "answer = [1,2,2,0,0,0,1]"
   ]
  },
  {
   "cell_type": "code",
   "execution_count": 141,
   "metadata": {},
   "outputs": [
    {
     "name": "stdout",
     "output_type": "stream",
     "text": [
      "[0, 0, 0, 0, 0, 0, 0, 0, 0]\n",
      "[0, 0, 0, 0, 0, 0, 0, 0, 0]\n",
      "[0, 0, 0, 0, 0, 0, 0, 0, 0]\n",
      "[0, 0.1, 0.1, 0, 0.1, 0.1, 0, 0.1, 0.1]\n",
      "[0, 0.2, 0.2, 0, 0.2, 0.2, 0, 0.2, 0.2]\n",
      "[0, 0.30000000000000004, 0.30000000000000004, 0, 0.30000000000000004, 0.30000000000000004, 0, 0.30000000000000004, 0.30000000000000004]\n",
      "[0, 0.30000000000000004, 0.30000000000000004, 0, 0.30000000000000004, 0.30000000000000004, 0, 0.30000000000000004, 0.30000000000000004]\n"
     ]
    }
   ],
   "source": [
    "for i in range(0,len(questions)):\n",
    "    q = questions[i]\n",
    "    if(q['type']==Event.binary):\n",
    "        if(answer[i]==1):\n",
    "            updateSkill(q['imp_1'],q['vel_1'],q['acc_1'])\n",
    "        else:\n",
    "            updateSkill(q['imp_2'],q['vel_2'],q['acc_2'])\n",
    "    if (q['type']==Event.impulse):\n",
    "        updateSkill(q['imp'],E,E)\n",
    "        \n",
    "        "
   ]
  },
  {
   "cell_type": "code",
   "execution_count": null,
   "metadata": {},
   "outputs": [],
   "source": []
  },
  {
   "cell_type": "code",
   "execution_count": null,
   "metadata": {},
   "outputs": [],
   "source": []
  }
 ],
 "metadata": {
  "kernelspec": {
   "display_name": "Python 3",
   "language": "python",
   "name": "python3"
  },
  "language_info": {
   "codemirror_mode": {
    "name": "ipython",
    "version": 3
   },
   "file_extension": ".py",
   "mimetype": "text/x-python",
   "name": "python",
   "nbconvert_exporter": "python",
   "pygments_lexer": "ipython3",
   "version": "3.7.1"
  }
 },
 "nbformat": 4,
 "nbformat_minor": 2
}
